{
 "cells": [
  {
   "cell_type": "code",
   "execution_count": null,
   "id": "84ca489d",
   "metadata": {},
   "outputs": [],
   "source": [
    "!pip install -q modelify"
   ]
  },
  {
   "cell_type": "code",
   "execution_count": null,
   "id": "66bc3530",
   "metadata": {},
   "outputs": [],
   "source": [
    "import numpy as np\n",
    "import pandas as pd\n",
    "from sklearn.datasets import load_iris\n",
    "from sklearn.model_selection import train_test_split\n",
    "from lightgbm import LGBMClassifier, Dataset, train as train_lgbm"
   ]
  },
  {
   "cell_type": "markdown",
   "id": "29015967",
   "metadata": {},
   "source": [
    "# Modeling"
   ]
  },
  {
   "cell_type": "code",
   "execution_count": null,
   "id": "a71e6f39",
   "metadata": {},
   "outputs": [],
   "source": [
    "iris = load_iris()\n",
    "df= pd.DataFrame(data= np.c_[iris['data'], iris['target']],\n",
    "                     columns= iris['feature_names'] + ['target'])"
   ]
  },
  {
   "cell_type": "code",
   "execution_count": null,
   "id": "9ba99387",
   "metadata": {},
   "outputs": [],
   "source": [
    "df.head()"
   ]
  },
  {
   "cell_type": "code",
   "execution_count": null,
   "id": "f1c21b5b",
   "metadata": {},
   "outputs": [],
   "source": [
    "train, test = train_test_split(df, test_size=0.2 )\n",
    "y_train = df[\"target\"]\n",
    "X_train = df.drop(columns=[\"target\"])"
   ]
  },
  {
   "cell_type": "code",
   "execution_count": null,
   "id": "f7a3443f",
   "metadata": {},
   "outputs": [],
   "source": [
    "model = LGBMClassifier()\n",
    "model.fit(X_train, y_train)"
   ]
  },
  {
   "cell_type": "markdown",
   "id": "474ca3cd",
   "metadata": {
    "scrolled": true
   },
   "source": [
    "# Model Deployment"
   ]
  },
  {
   "cell_type": "code",
   "execution_count": null,
   "id": "ea21b385",
   "metadata": {},
   "outputs": [],
   "source": [
    "import modelify\n",
    "from modelify import ModelInference\n",
    "from modelify.helpers import create_schema"
   ]
  },
  {
   "cell_type": "code",
   "execution_count": null,
   "id": "4b693c52",
   "metadata": {},
   "outputs": [],
   "source": [
    "inference = ModelInference(model=model, framework=\"LIGHTGBM\", inputs=create_schema(X_train))"
   ]
  },
  {
   "cell_type": "code",
   "execution_count": null,
   "id": "d395a091",
   "metadata": {},
   "outputs": [],
   "source": [
    "modelify.connect(\"YOUR_CONNECTION_KEY\")"
   ]
  },
  {
   "cell_type": "code",
   "execution_count": null,
   "id": "6df74b9d",
   "metadata": {},
   "outputs": [],
   "source": [
    "modelify.deploy(inference, app_uid=\"YOUR_APP_UID\")"
   ]
  },
  {
   "cell_type": "code",
   "execution_count": null,
   "id": "21a61805",
   "metadata": {},
   "outputs": [],
   "source": []
  },
  {
   "cell_type": "markdown",
   "id": "d9901642",
   "metadata": {},
   "source": [
    "## Predictions via API"
   ]
  },
  {
   "cell_type": "code",
   "execution_count": null,
   "id": "1bfd91f4",
   "metadata": {},
   "outputs": [],
   "source": [
    "import requests"
   ]
  },
  {
   "cell_type": "code",
   "execution_count": null,
   "id": "cff6b4b7",
   "metadata": {},
   "outputs": [],
   "source": [
    "data = [\n",
    "  {\n",
    "    \"sepal_length_(cm)\": 5.1,\n",
    "    \"sepal_width_(cm)\": 3.5,\n",
    "    \"petal_length_(cm)\": 1.4,\n",
    "    \"petal_width_(cm)\": 0.2\n",
    "  }\n",
    "]"
   ]
  },
  {
   "cell_type": "code",
   "execution_count": null,
   "id": "ca9ada3e",
   "metadata": {},
   "outputs": [],
   "source": [
    "response = requests.post('API_URL/predict', headers={\n",
    "    'accept': 'application/json'\n",
    "}, json=data)"
   ]
  },
  {
   "cell_type": "code",
   "execution_count": null,
   "id": "2f106332",
   "metadata": {},
   "outputs": [],
   "source": [
    "response.json()"
   ]
  },
  {
   "cell_type": "markdown",
   "id": "e9d9a27d",
   "metadata": {},
   "source": [
    "# New Version"
   ]
  },
  {
   "cell_type": "code",
   "execution_count": null,
   "id": "c261d473",
   "metadata": {},
   "outputs": [],
   "source": [
    "X_train = df.drop(columns=[\"petal width (cm)\"])"
   ]
  },
  {
   "cell_type": "code",
   "execution_count": null,
   "id": "87ac46dd",
   "metadata": {},
   "outputs": [],
   "source": [
    "model_2 = LGBMClassifier()\n",
    "model_2.fit(X_train, y_train)"
   ]
  },
  {
   "cell_type": "code",
   "execution_count": null,
   "id": "efe491bf",
   "metadata": {},
   "outputs": [],
   "source": [
    "inference_2 = ModelInference(model=model_2, framework=\"LIGHTGBM\", inputs=create_schema(X_train))"
   ]
  },
  {
   "cell_type": "code",
   "execution_count": null,
   "id": "2131d0d0",
   "metadata": {},
   "outputs": [],
   "source": [
    "modelify.deploy(inference_2, app_uid=\"YOUR_APP_UID\")"
   ]
  },
  {
   "cell_type": "code",
   "execution_count": null,
   "id": "c188c4d9",
   "metadata": {},
   "outputs": [],
   "source": []
  }
 ],
 "metadata": {
  "kernelspec": {
   "display_name": "Python 3 (ipykernel)",
   "language": "python",
   "name": "python3"
  },
  "language_info": {
   "codemirror_mode": {
    "name": "ipython",
    "version": 3
   },
   "file_extension": ".py",
   "mimetype": "text/x-python",
   "name": "python",
   "nbconvert_exporter": "python",
   "pygments_lexer": "ipython3",
   "version": "3.9.5"
  }
 },
 "nbformat": 4,
 "nbformat_minor": 5
}
